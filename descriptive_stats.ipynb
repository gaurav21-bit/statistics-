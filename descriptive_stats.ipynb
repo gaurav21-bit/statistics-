{
 "cells": [
  {
   "cell_type": "markdown",
   "id": "81175163-2fc1-47d8-a270-dc2b20986053",
   "metadata": {},
   "source": [
    "                                    *** submitted by madhav gupta ***"
   ]
  },
  {
   "cell_type": "code",
   "execution_count": 31,
   "id": "36ad5b1c-6a4d-4b12-a630-55c214423def",
   "metadata": {},
   "outputs": [
    {
     "name": "stdout",
     "output_type": "stream",
     "text": [
      "     sepal_length  sepal_width  petal_length  petal_width         species\n",
      "0             5.1          3.5           1.4          0.2     Iris-setosa\n",
      "1             4.9          3.0           1.4          0.2     Iris-setosa\n",
      "2             4.7          3.2           1.3          0.2     Iris-setosa\n",
      "3             4.6          3.1           1.5          0.2     Iris-setosa\n",
      "4             5.0          3.6           1.4          0.2     Iris-setosa\n",
      "..            ...          ...           ...          ...             ...\n",
      "145           6.7          3.0           5.2          2.3  Iris-virginica\n",
      "146           6.3          2.5           5.0          1.9  Iris-virginica\n",
      "147           6.5          3.0           5.2          2.0  Iris-virginica\n",
      "148           6.2          3.4           5.4          2.3  Iris-virginica\n",
      "149           5.9          3.0           5.1          1.8  Iris-virginica\n",
      "\n",
      "[150 rows x 5 columns]\n"
     ]
    }
   ],
   "source": [
    "\n",
    "# We import Pandas and Numpy the libraries of python. Pandas used to work with data sets,Numpy used to perform various functions with arrays.\n",
    "import pandas as pd                               \n",
    "import numpy as np\n",
    "# We import our file through pandas as pd which helps to read which file it is.\n",
    "df= pd.read_csv(\"iris.csv\")\n",
    "print(df)"
   ]
  },
  {
   "cell_type": "markdown",
   "id": "5e57a61e-39b4-44bb-869c-de94bf345855",
   "metadata": {},
   "source": [
    "***ques1=Central Tendency\n",
    "         Without directly calculating the mean, determine which sepal measurement (sepal_length or sepal_width) \n",
    "         has a higher average by observing the dataset.***                          "
   ]
  },
  {
   "cell_type": "code",
   "execution_count": 45,
   "id": "a7873664-69ce-4d67-9d12-05e13947cecd",
   "metadata": {},
   "outputs": [],
   "source": [
    "#creating a small data frame\n",
    "stat_df=df[[\"sepal_length\",\"sepal_width\",\"petal_length\",\"petal_width\",\"species\"]]"
   ]
  },
  {
   "cell_type": "code",
   "execution_count": 21,
   "id": "1d1edb67-2bcc-4f2f-86ab-a378d779d537",
   "metadata": {
    "scrolled": true
   },
   "outputs": [
    {
     "data": {
      "text/plain": [
       "count    150.000000\n",
       "mean       5.843333\n",
       "std        0.828066\n",
       "min        4.300000\n",
       "25%        5.100000\n",
       "50%        5.800000\n",
       "75%        6.400000\n",
       "max        7.900000\n",
       "Name: sepal_length, dtype: float64"
      ]
     },
     "execution_count": 21,
     "metadata": {},
     "output_type": "execute_result"
    }
   ],
   "source": [
    "stat_df[\"sepal_length\"].describe() "
   ]
  },
  {
   "cell_type": "code",
   "execution_count": 22,
   "id": "b2650b04-1fbe-42d9-83ad-0a69c28662c9",
   "metadata": {},
   "outputs": [
    {
     "data": {
      "text/plain": [
       "count    150.000000\n",
       "mean       3.054000\n",
       "std        0.433594\n",
       "min        2.000000\n",
       "25%        2.800000\n",
       "50%        3.000000\n",
       "75%        3.300000\n",
       "max        4.400000\n",
       "Name: sepal_width, dtype: float64"
      ]
     },
     "execution_count": 22,
     "metadata": {},
     "output_type": "execute_result"
    }
   ],
   "source": [
    "stat_df[\"sepal_width\"].describe()"
   ]
  },
  {
   "cell_type": "markdown",
   "id": "3b520082-9e9b-4dc8-b2fd-a8b7d492ea9f",
   "metadata": {},
   "source": [
    "***Ans 1=We find the average of both sepal measurment's of sepal_length and sepal_width and we got that the  sepal_length has the higher average.***"
   ]
  },
  {
   "cell_type": "markdown",
   "id": "4768d603-6df0-4462-bce8-197287a9b0e0",
   "metadata": {},
   "source": [
    "***Que2=Dispersion \n",
    "        Compare the variability of petal measurements by checking the difference between the \n",
    "        ranges of petal_length and petal_width. Which feature shows more spread?***"
   ]
  },
  {
   "cell_type": "code",
   "execution_count": 25,
   "id": "e1d25a5f-13fa-4ede-b6f9-40f8f5bb76e0",
   "metadata": {},
   "outputs": [
    {
     "data": {
      "text/plain": [
       "5.9"
      ]
     },
     "execution_count": 25,
     "metadata": {},
     "output_type": "execute_result"
    }
   ],
   "source": [
    "range_length= stat_df[\"petal_length\"].max()-stat_df[\"petal_length\"].min()\n",
    "print(range_length)"
   ]
  },
  {
   "cell_type": "code",
   "execution_count": 26,
   "id": "7d0de61e-b432-4feb-ba69-5f53467e0783",
   "metadata": {},
   "outputs": [
    {
     "data": {
      "text/plain": [
       "2.4"
      ]
     },
     "execution_count": 26,
     "metadata": {},
     "output_type": "execute_result"
    }
   ],
   "source": [
    "range_width= stat_df[\"petal_width\"].max()-stat_df[\"petal_width\"].min()\n",
    "print(range_width)"
   ]
  },
  {
   "cell_type": "markdown",
   "id": "0a99293a-8858-4a30-85a1-98b551a45b9b",
   "metadata": {},
   "source": [
    "***Ans2=The range of any data shows the variablity in data,the more the range is ,the more variability in data means the more data is spread,\n",
    "        the range between  petal measurments the petal_lengthh range is higher then the petal_width range means\n",
    "        the data is more spread in petal_length***"
   ]
  },
  {
   "cell_type": "markdown",
   "id": "cd6eb631-4a80-4d6e-b2b7-9c970faebc9d",
   "metadata": {},
   "source": [
    "***Que3=Quartiles \n",
    "         Identify which feature, sepal_length or sepal_width, has a higher interquartile range (IQR), \n",
    "         indicating greater variability in the middle 50% of the data.***"
   ]
  },
  {
   "cell_type": "code",
   "execution_count": 29,
   "id": "bfe55378-cae0-4750-95c7-4723a938242e",
   "metadata": {},
   "outputs": [
    {
     "data": {
      "text/plain": [
       "1.3000000000000007"
      ]
     },
     "execution_count": 29,
     "metadata": {},
     "output_type": "execute_result"
    }
   ],
   "source": [
    "iqr_length= stat_df[\"sepal_length\"].quantile(0.75)-stat_df[\"sepal_length\"].quantile(0.25)\n",
    "print(iqr_length)"
   ]
  },
  {
   "cell_type": "code",
   "execution_count": 30,
   "id": "4565ec90-c973-4ab3-b133-7c13b3a3a66a",
   "metadata": {},
   "outputs": [
    {
     "data": {
      "text/plain": [
       "0.5"
      ]
     },
     "execution_count": 30,
     "metadata": {},
     "output_type": "execute_result"
    }
   ],
   "source": [
    "iqr_width= stat_df[\"sepal_width\"].quantile(0.75)-stat_df[\"sepal_width\"].quantile(0.25)\n",
    "print(iqr_width)"
   ]
  },
  {
   "cell_type": "markdown",
   "id": "32ace1ee-10ed-42f9-90d7-3704f43b6f85",
   "metadata": {},
   "source": [
    "***Ans3=We find irq of sepal measurments,so we get that the variability of sepal_length is gereater than sepal_width.***"
   ]
  },
  {
   "cell_type": "markdown",
   "id": "28f24350-fd9c-4d95-b111-8e55953ebdc3",
   "metadata": {},
   "source": [
    "***Que4=Standard Deviation Insight \n",
    "        Based on the computed standard deviations of sepal_length and sepal_width, determine \n",
    "        which attribute exhibits more variability and discuss what this indicates about the \n",
    "        consistency of the two features.***"
   ]
  },
  {
   "cell_type": "code",
   "execution_count": 51,
   "id": "c3bbe6e1-68fa-4134-88ed-3706876c2362",
   "metadata": {},
   "outputs": [
    {
     "name": "stdout",
     "output_type": "stream",
     "text": [
      "0.8280661279778629\n"
     ]
    }
   ],
   "source": [
    "std_length=stat_df[\"sepal_length\"].std()\n",
    "print(std_length)"
   ]
  },
  {
   "cell_type": "code",
   "execution_count": 47,
   "id": "aa04540f-667d-45ea-b817-c38ed0eec1d5",
   "metadata": {},
   "outputs": [
    {
     "data": {
      "text/plain": [
       "0.4335943113621737"
      ]
     },
     "execution_count": 47,
     "metadata": {},
     "output_type": "execute_result"
    }
   ],
   "source": [
    "std_width=stat_df[\"sepal_width\"].std()\n",
    "print(std_width)"
   ]
  },
  {
   "cell_type": "markdown",
   "id": "eac2c9a2-b749-409d-ac1e-29e31df9aab6",
   "metadata": {},
   "source": [
    "***Ans4=The more the standard deviation,the more data is variable and data is less consistent, so here standard deviation of sepal measurments\n",
    "         sepal_length is higher than sepal_width means sepal_length has more variability means it's less conssistent than sepal_width***"
   ]
  },
  {
   "cell_type": "markdown",
   "id": "393b3f86-d72e-499d-8bf8-aeaaa92b42a6",
   "metadata": {},
   "source": [
    "***Que5=Shape of Distribution \n",
    "        Without plotting, assess whether the petal_length distribution is skewed. Use a descriptive \n",
    "        statistic that measures skewness and infer the distribution shape.***"
   ]
  },
  {
   "cell_type": "code",
   "execution_count": 49,
   "id": "95f4ae2e-834f-4617-b3eb-1d846ed6b1b7",
   "metadata": {},
   "outputs": [
    {
     "name": "stdout",
     "output_type": "stream",
     "text": [
      "1.2932678587580084\n"
     ]
    }
   ],
   "source": [
    "x= stat_df[\"petal_length\"].mean()-stat_df[\"petal_length\"].median()/stat_df[\"petal_length\"].std()\n",
    "print(x)"
   ]
  },
  {
   "cell_type": "markdown",
   "id": "44c30ca3-4089-4488-b32d-c240fdec780d",
   "metadata": {},
   "source": [
    "***Ans5=Skweness move with the mean if its postive so the graph curve bends to positive skewed and vice versa,if all mean,median mode lie in same so \n",
    "         it will be zero skewed. Here skewness of petal_length is negative  means the graphs tail will bend towards negative***"
   ]
  },
  {
   "cell_type": "markdown",
   "id": "947cd38b-a079-41a1-9cca-0cc1efe41fa3",
   "metadata": {},
   "source": [
    "***Que6=Symmetry \n",
    "        For which attribute, sepal_length or sepal_width, is the skewness closer to zero? What does \n",
    "        this imply about the symmetry of its distribution?***"
   ]
  },
  {
   "cell_type": "code",
   "execution_count": 40,
   "id": "1a15b82a-507f-454a-aa5e-2230d436ef23",
   "metadata": {},
   "outputs": [
    {
     "data": {
      "text/plain": [
       "0.3149109566369728"
      ]
     },
     "execution_count": 40,
     "metadata": {},
     "output_type": "execute_result"
    }
   ],
   "source": [
    "skew_len= stat_df[\"sepal_length\"].skew()\n",
    "print(skew_len)"
   ]
  },
  {
   "cell_type": "code",
   "execution_count": 41,
   "id": "45a9c376-cfe1-44f7-a599-8fb84ae454c1",
   "metadata": {},
   "outputs": [
    {
     "data": {
      "text/plain": [
       "0.3340526621720866"
      ]
     },
     "execution_count": 41,
     "metadata": {},
     "output_type": "execute_result"
    }
   ],
   "source": [
    "skew_width= stat_df[\"sepal_width\"].skew()\n",
    "print(skew_width)"
   ]
  },
  {
   "cell_type": "markdown",
   "id": "9bc50de4-b7bc-4067-92f6-4abcfa38465c",
   "metadata": {},
   "source": [
    "***Ans6=sepal_length is much closer to zero means symmetry move towards the zero***"
   ]
  },
  {
   "cell_type": "markdown",
   "id": "0d98062d-a471-43e1-b3eb-54af240bb112",
   "metadata": {},
   "source": [
    "***Que7=Coefficient of Variation \n",
    "        Calculate the coefficient of variation (CV) for sepal_length and petal_length. Which feature \n",
    "        has greater relative variability, and what does this tell you about the dataset?***"
   ]
  },
  {
   "cell_type": "code",
   "execution_count": 44,
   "id": "cda5fccc-6232-48e1-876a-fd1c3be3353a",
   "metadata": {},
   "outputs": [
    {
     "data": {
      "text/plain": [
       "14.171125977944033"
      ]
     },
     "execution_count": 44,
     "metadata": {},
     "output_type": "execute_result"
    }
   ],
   "source": [
    "coff_v_sepal= (stat_df[\"sepal_length\"].std()/stat_df[\"sepal_length\"].mean()) *100\n",
    "print(coff_v_sepal)"
   ]
  },
  {
   "cell_type": "code",
   "execution_count": 45,
   "id": "0039cd59-8994-4c77-b1de-47934586c520",
   "metadata": {},
   "outputs": [
    {
     "data": {
      "text/plain": [
       "46.942721353820374"
      ]
     },
     "execution_count": 45,
     "metadata": {},
     "output_type": "execute_result"
    }
   ],
   "source": [
    "coff_v_petal= (stat_df[\"petal_length\"].std()/stat_df[\"petal_length\"].mean()) *100\n",
    "print(coff_v_petal)"
   ]
  },
  {
   "cell_type": "markdown",
   "id": "10421e21-9a95-42e6-8100-64d10510ef28",
   "metadata": {},
   "source": [
    "***Ans7=Coefficient of Variation of petal_length is higher which shows higher variability means less consistent means the data is more spread .***"
   ]
  },
  {
   "cell_type": "markdown",
   "id": "94390191-4cc1-414e-970c-116d3f89bdbc",
   "metadata": {},
   "source": [
    "***Que8=Outlier Detection using IQR \n",
    "        Identify the outliers in the sepal_length feature using the IQR method (define outliers as \n",
    "        values that fall below Q1 - 1.5 * IQR or above Q3 + 1.5 * IQR). How many outliers are \n",
    "        present?***"
   ]
  },
  {
   "cell_type": "code",
   "execution_count": 48,
   "id": "030a5e4e-5d98-4121-b89b-9c0a00fc12d8",
   "metadata": {},
   "outputs": [
    {
     "data": {
      "text/plain": [
       "6.4"
      ]
     },
     "execution_count": 48,
     "metadata": {},
     "output_type": "execute_result"
    }
   ],
   "source": [
    "q1= stat_df[\"sepal_length\"].quantile(0.75)\n",
    "print(q1)"
   ]
  },
  {
   "cell_type": "code",
   "execution_count": 49,
   "id": "50faec1a-cbbe-4db9-a25e-a4461f9d7e5c",
   "metadata": {},
   "outputs": [
    {
     "data": {
      "text/plain": [
       "5.1"
      ]
     },
     "execution_count": 49,
     "metadata": {},
     "output_type": "execute_result"
    }
   ],
   "source": [
    "q2 =stat_df[\"sepal_length\"].quantile(0.25)\n",
    "print(q2)"
   ]
  },
  {
   "cell_type": "code",
   "execution_count": 50,
   "id": "3069491a-4378-4236-a7b6-dfd5b9bc1ffc",
   "metadata": {},
   "outputs": [
    {
     "data": {
      "text/plain": [
       "1.3000000000000007"
      ]
     },
     "execution_count": 50,
     "metadata": {},
     "output_type": "execute_result"
    }
   ],
   "source": [
    "iqr=q1-q2\n",
    "print(iqr)"
   ]
  },
  {
   "cell_type": "code",
   "execution_count": 51,
   "id": "54cf164f-dbe0-45b8-9b6c-be466ed7639f",
   "metadata": {},
   "outputs": [
    {
     "data": {
      "text/plain": [
       "3.1499999999999986"
      ]
     },
     "execution_count": 51,
     "metadata": {},
     "output_type": "execute_result"
    }
   ],
   "source": [
    "lower_length= q2-1.5*iqr\n",
    "print(lower_length)"
   ]
  },
  {
   "cell_type": "code",
   "execution_count": 52,
   "id": "9f8cdf71-40ff-473a-858f-a13b6cb25947",
   "metadata": {},
   "outputs": [
    {
     "data": {
      "text/plain": [
       "8.350000000000001"
      ]
     },
     "execution_count": 52,
     "metadata": {},
     "output_type": "execute_result"
    }
   ],
   "source": [
    "upper_length= q1+1.5*iqr\n",
    "print(upper_length)"
   ]
  },
  {
   "cell_type": "code",
   "execution_count": 53,
   "id": "5c1b74bd-8178-44fd-97b1-db47ad850960",
   "metadata": {},
   "outputs": [
    {
     "name": "stdout",
     "output_type": "stream",
     "text": [
      "Empty DataFrame\n",
      "Columns: [sepal_length, sepal_width, petal_length, petal_width, species]\n",
      "Index: []\n"
     ]
    }
   ],
   "source": [
    "outliers_length= stat_df[(stat_df['sepal_length']>upper_length) |\n",
    "                  (stat_df['sepal_length']<lower_length)]\n",
    "print(outliers_length)"
   ]
  },
  {
   "cell_type": "markdown",
   "id": "26a02595-a528-4bb9-b726-535fd6fb8b4e",
   "metadata": {},
   "source": [
    "***Ans7=There are zero outliers .***"
   ]
  },
  {
   "cell_type": "code",
   "execution_count": null,
   "id": "34395d8a-ee8a-4383-ab3f-c68ae5889c5b",
   "metadata": {},
   "outputs": [],
   "source": []
  }
 ],
 "metadata": {
  "kernelspec": {
   "display_name": "Python 3 (ipykernel)",
   "language": "python",
   "name": "python3"
  },
  "language_info": {
   "codemirror_mode": {
    "name": "ipython",
    "version": 3
   },
   "file_extension": ".py",
   "mimetype": "text/x-python",
   "name": "python",
   "nbconvert_exporter": "python",
   "pygments_lexer": "ipython3",
   "version": "3.12.4"
  }
 },
 "nbformat": 4,
 "nbformat_minor": 5
}
